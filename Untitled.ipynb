{
 "cells": [
  {
   "cell_type": "code",
   "execution_count": 1,
   "metadata": {},
   "outputs": [],
   "source": [
    "import argparse\n",
    "import os\n",
    "import torch\n",
    "import random\n",
    "import sys\n",
    "from data.dataloader import itemDataset,ToTensor,collate_fn\n",
    "from torch.utils.data import Dataset,DataLoader\n",
    "from torchvision import transforms, utils\n",
    "\n",
    "from model.model_builder import build_model #still need some little modify\n",
    "from model.util.optimizers import build_optim\n",
    "from model.util.Logger import logger,init_logger  #finish\n",
    "from model.util.saver import build_model_saver  #finish\n",
    "from model.util import Report_manager\n",
    "\n",
    "import torch.nn as nn\n",
    "from model import Trainer\n",
    "import opts\n",
    "\n",
    "\n",
    "    \n",
    "\n"
   ]
  },
  {
   "cell_type": "code",
   "execution_count": 3,
   "metadata": {},
   "outputs": [],
   "source": [
    "opt = opts"
   ]
  },
  {
   "cell_type": "code",
   "execution_count": 17,
   "metadata": {},
   "outputs": [],
   "source": [
    "\n",
    "device = torch.device('cpu')\n",
    "checkpoint = torch.load('./token_data/save_model/output13/step_best.pt',map_location=device)\n",
    "\n",
    "model_opt = checkpoint['opt']\n"
   ]
  },
  {
   "cell_type": "code",
   "execution_count": 18,
   "metadata": {},
   "outputs": [
    {
     "data": {
      "text/plain": [
       "(3, 1, 64)"
      ]
     },
     "execution_count": 18,
     "metadata": {},
     "output_type": "execute_result"
    }
   ],
   "source": [
    "model_opt.enc_layer,model_opt.dec_layer,model_opt.nin_dim_de"
   ]
  },
  {
   "cell_type": "code",
   "execution_count": 16,
   "metadata": {},
   "outputs": [
    {
     "data": {
      "text/plain": [
       "Namespace(accum_count=2, adam_beta1=0.9, adam_beta2=0.997, batch_size=50, batch_type='tokens', data='./token_data/', dec_layer=1, decay_method='constant*linear_warmup*rsqrt_decay*rsqrt_hidden_size', decay_steps=5000, decoder_type='transformer', device_id=0, dropout=0.1, enc_layer=3, encoder_type='transformer', epochs=100, feat_merge='sum', feat_vec_size=32, fix_word_vecs_dec=False, fix_word_vecs_enc=False, global_attention='general', gpu_backend='nccl', gpu_rank=0, gpu_verbose_level=0, gpuid=[0], keep_checkpoint=10, label_smoothing=0.1, learning_rate=0.2, learning_rate_decay=1, log_file='/logger', max_generator_batches=16, max_grad_norm=5, model_dim=64, nin_dim_de=128, nin_dim_en=128, normalization='tokens', num_head=8, num_layer=3, optim_method='adam', param_init=0.1, param_init_glorot=True, position_encoding=False, pre_word_vecs_dec=None, pre_word_vecs_enc=None, replace=False, report_every=100, save_checkpoint_steps=1000, save_model='./token_data/save_model/output14/', seed=-1, self_attn_type='scaled_dot', share_decoder_embeddings=False, share_embeddings=False, show=True, src_word_vec_size=64, start_decay_step=16000, tar_word_vec_size=64, tensorboard=True, tensorboard_log_dir='./tensor_log', train_from=None, train_steps=30000, truncated_decoder=0, valid_batch_size=32, valid_steps=1000, warmup_steps=16000)"
      ]
     },
     "execution_count": 16,
     "metadata": {},
     "output_type": "execute_result"
    }
   ],
   "source": [
    "model_opt"
   ]
  },
  {
   "cell_type": "code",
   "execution_count": null,
   "metadata": {},
   "outputs": [],
   "source": []
  }
 ],
 "metadata": {
  "kernelspec": {
   "display_name": "Python 3",
   "language": "python",
   "name": "python3"
  },
  "language_info": {
   "codemirror_mode": {
    "name": "ipython",
    "version": 3
   },
   "file_extension": ".py",
   "mimetype": "text/x-python",
   "name": "python",
   "nbconvert_exporter": "python",
   "pygments_lexer": "ipython3",
   "version": "3.6.6"
  }
 },
 "nbformat": 4,
 "nbformat_minor": 2
}
